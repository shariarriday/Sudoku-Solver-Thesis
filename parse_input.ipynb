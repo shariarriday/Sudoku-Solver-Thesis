{
 "cells": [
  {
   "cell_type": "code",
   "execution_count": 3,
   "metadata": {},
   "outputs": [],
   "source": [
    "import pandas as pd\r\n",
    "import seaborn as sns\r\n",
    "import numpy as np\r\n",
    "import glob\r\n",
    "import re\r\n",
    "\r\n",
    "data_frame_info = []\r\n"
   ]
  },
  {
   "cell_type": "code",
   "execution_count": 4,
   "metadata": {},
   "outputs": [],
   "source": [
    "def vertical_symmetry(symtest):\r\n",
    "    for i in range(0, 9):\r\n",
    "        for j in range(0, 9):\r\n",
    "            if symtest[i, j] != symtest[8-i, j]:\r\n",
    "                return False\r\n",
    "\r\n",
    "    return True\r\n",
    "\r\n",
    "\r\n",
    "def horizontal_symmetry(symtest):\r\n",
    "    for i in range(0, 9):\r\n",
    "        for j in range(0, 9):\r\n",
    "            if symtest[i, j] != symtest[i, 8-j]:\r\n",
    "                return False\r\n",
    "\r\n",
    "    return True\r\n",
    "\r\n",
    "\r\n",
    "def two_fold_rotational_symmetry(symtest):\r\n",
    "    for i in range(0, 9):\r\n",
    "        for j in range(0, 9):\r\n",
    "            if symtest[i, j] != symtest[8-i, 8-j]:\r\n",
    "                return False\r\n",
    "\r\n",
    "    return True\r\n",
    "\r\n",
    "\r\n",
    "def four_fold_rotational_symmetry(symtest):\r\n",
    "    fold_1 = symtest[:5, :5]\r\n",
    "    fold_2 = symtest[4:, 4:]\r\n",
    "    fold_3 = symtest[4:, :5]\r\n",
    "    fold_4 = symtest[:5, :5]\r\n",
    "\r\n",
    "    if np.array_equal(fold_1, np.rot90(np.rot90(fold_2))) and np.array_equal(fold_1, np.rot90(np.rot90(np.rot90(fold_3)))) and np.array_equal(fold_1, np.rot90(np.rot90(np.rot90(np.rot90(fold_4))))):\r\n",
    "        return True\r\n",
    "    else:\r\n",
    "        return False\r\n",
    "\r\n",
    "\r\n",
    "def assymetry(symtest):\r\n",
    "\r\n",
    "    if vertical_symmetry(symtest) or horizontal_symmetry(symtest) or two_fold_rotational_symmetry(symtest) or four_fold_rotational_symmetry(symtest):\r\n",
    "        return False\r\n",
    "    else:\r\n",
    "        return True\r\n"
   ]
  },
  {
   "cell_type": "code",
   "execution_count": 5,
   "metadata": {},
   "outputs": [],
   "source": [
    "for name in glob.glob('Output/count*.txt'):\r\n",
    "    numbers = re.findall(r'\\d+' , name)\r\n",
    "    if len(numbers) == 0:\r\n",
    "        continue\r\n",
    "    file_number = int(numbers[0])\r\n",
    "\r\n",
    "    main = open(\"Inputs\\\\input.txt\")\r\n",
    "\r\n",
    "    i = 1\r\n",
    "\r\n",
    "    symtest = np.zeros([9, 9])\r\n",
    "\r\n",
    "    for single in main:\r\n",
    "\r\n",
    "        if i != file_number:\r\n",
    "            i += 1\r\n",
    "            continue\r\n",
    "\r\n",
    "        for ind in range(9):\r\n",
    "\r\n",
    "            for j in range(9):\r\n",
    "\r\n",
    "                if(single[ind*9+j] != '.'):\r\n",
    "\r\n",
    "                    symtest[ind][j] = 1\r\n",
    "\r\n",
    "    main.close()\r\n",
    "\r\n",
    "    with open(name , 'r') as f:\r\n",
    "        parse = [line for line in f]\r\n",
    "        if len(parse) > 3:\r\n",
    "            start_time = float(parse[1])\r\n",
    "            end_time = float(parse[-1])\r\n",
    "            diff = parse[-2].split()[-1]\r\n",
    "            data_frame_info.append({\"File\": file_number, \"Time\" : end_time - start_time , \"Difficulty\" : diff , \r\n",
    "                                    \"Two Fold Rotational Symmetry\": two_fold_rotational_symmetry(symtest), \"Four Fold Rotational Symmetry\": four_fold_rotational_symmetry(symtest),\r\n",
    "                                    \"Vertical Symmetry\": vertical_symmetry(symtest), \"Horizontal Symmetry\": horizontal_symmetry(symtest), \"Assymetry\": assymetry(symtest)})\r\n",
    "\r\n",
    "data = pd.DataFrame(data_frame_info)\r\n"
   ]
  },
  {
   "cell_type": "code",
   "execution_count": 6,
   "metadata": {},
   "outputs": [
    {
     "data": {
      "text/plain": "<AxesSubplot:xlabel='Time', ylabel='Difficulty'>"
     },
     "execution_count": 6,
     "metadata": {},
     "output_type": "execute_result"
    },
    {
     "data": {
      "image/png": "[encoded data removed]",
      "text/plain": "<Figure size 432x288 with 1 Axes>"
     },
     "metadata": {},
     "output_type": "display_data"
    }
   ],
   "source": [
    "sns.set_theme(style=\"whitegrid\")\r\n",
    "\r\n",
    "# Set up a grid of axes with a polar projection\r\n",
    "# Plot the total crashes\r\n",
    "sns.set_color_codes(\"pastel\")\r\n",
    "sns.barplot(x=\"Time\", y=\"Difficulty\", data=data,\r\n",
    "            label=\"Sudoku\", color=\"r\")\r\n"
   ]
  }
 ],
 "metadata": {
  "kernelspec": {
   "display_name": "Python 3.8.3 64-bit ('ml-tf-prac': conda)",
   "metadata": {
    "interpreter": {
     "hash": "83901e24d7683df9af1e3649a1f9c3bed447a0094d5c32709ca815355bcbaa6d"
    }
   },
   "name": "python3"
  },
  "language_info": {
   "codemirror_mode": {
    "name": "ipython",
    "version": 3
   },
   "file_extension": ".py",
   "mimetype": "text/x-python",
   "name": "python",
   "nbconvert_exporter": "python",
   "pygments_lexer": "ipython3",
   "version": "3.8.3"
  },
  "orig_nbformat": 2
 },
 "nbformat": 4,
 "nbformat_minor": 2
}